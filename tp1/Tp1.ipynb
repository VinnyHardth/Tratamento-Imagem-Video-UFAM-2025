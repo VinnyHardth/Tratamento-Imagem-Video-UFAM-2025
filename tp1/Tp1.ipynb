{
 "cells": [
  {
   "cell_type": "code",
   "execution_count": 9,
   "id": "d75739d6-0621-4715-97aa-262753fcdf3d",
   "metadata": {},
   "outputs": [],
   "source": [
    "PATH_SAIDA = \"output/\""
   ]
  },
  {
   "cell_type": "code",
   "execution_count": 18,
   "id": "d9b4be23-8e90-41df-8b0f-b829a2e0a96f",
   "metadata": {},
   "outputs": [],
   "source": [
    "import cv2\n",
    "import numpy as np\n",
    "import matplotlib.pyplot as plt"
   ]
  },
  {
   "cell_type": "code",
   "execution_count": 14,
   "id": "e0fdbd66-255d-4035-a6a0-d6a4b3ffd6d8",
   "metadata": {},
   "outputs": [],
   "source": [
    "def mostrar_imagem(img, titulo=\"Imagem\"):\n",
    "    \"\"\"\n",
    "    Mostra a imagem em um notebook, convertendo de BGR -> RGB.\n",
    "    \"\"\"\n",
    "    img_rgb = cv2.cvtColor(img, cv2.COLOR_BGR2RGB)\n",
    "    plt.imshow(img_rgb)\n",
    "    plt.title(titulo)\n",
    "    plt.axis(\"off\")\n",
    "    plt.show()"
   ]
  },
  {
   "cell_type": "code",
   "execution_count": 3,
   "id": "57776271-9612-49d0-a66f-bc8326e20582",
   "metadata": {},
   "outputs": [],
   "source": [
    "def alterar_brilho(img, valor):\n",
    "    \"\"\"\n",
    "    Altera o brilho somando 'valor' a cada pixel.\n",
    "    \"\"\"\n",
    "    # converte para int16 para evitar overflow\n",
    "    img_temp = img.astype(np.int16)  \n",
    "    img_temp = img_temp + valor      # soma escalar em todos os canais\n",
    "    img_temp = np.clip(img_temp, 0, 255)  # mantém no intervalo válido\n",
    "    return img_temp.astype(np.uint8)"
   ]
  },
  {
   "cell_type": "code",
   "execution_count": 4,
   "id": "c50a8716-148b-4ccf-835f-7ec8f887a9bf",
   "metadata": {},
   "outputs": [],
   "source": [
    "def negativo(img):\n",
    "    \"\"\"\n",
    "    Gera o negativo da imagem (255 - pixel).\n",
    "    \"\"\"\n",
    "    return 255 - img"
   ]
  },
  {
   "cell_type": "code",
   "execution_count": 11,
   "id": "86997f01-d824-43d1-9485-cc0d11f2703b",
   "metadata": {},
   "outputs": [
    {
     "data": {
      "text/plain": [
       "True"
      ]
     },
     "execution_count": 11,
     "metadata": {},
     "output_type": "execute_result"
    }
   ],
   "source": [
    "img = cv2.imread(\"img.jpg\")\n",
    "img_brilho = alterar_brilho(img, 50)  # aumenta brilho em +50\n",
    "cv2.imwrite(PATH_SAIDA+\"saida_brilho.jpg\", img_brilho)"
   ]
  },
  {
   "cell_type": "code",
   "execution_count": 12,
   "id": "c6dbf3d4-1deb-457a-8b20-6a89f183d347",
   "metadata": {},
   "outputs": [
    {
     "data": {
      "text/plain": [
       "True"
      ]
     },
     "execution_count": 12,
     "metadata": {},
     "output_type": "execute_result"
    }
   ],
   "source": [
    "img_negativo = negativo(img)\n",
    "cv2.imwrite(PATH_SAIDA+\"saida_negativa.jpg\", img_negativo)"
   ]
  },
  {
   "cell_type": "code",
   "execution_count": 13,
   "id": "72dcf594-56a2-4128-bd1f-2c2199e1262a",
   "metadata": {},
   "outputs": [
    {
     "data": {
      "text/plain": [
       "-1"
      ]
     },
     "execution_count": 13,
     "metadata": {},
     "output_type": "execute_result"
    }
   ],
   "source": [
    "cv2.imshow(\"Resultado\", img_brilho)\n",
    "cv2.waitKey(0)"
   ]
  },
  {
   "cell_type": "code",
   "execution_count": null,
   "id": "924cccc0-8fde-4833-b4cf-fd7cd74b4ece",
   "metadata": {},
   "outputs": [],
   "source": []
  }
 ],
 "metadata": {
  "kernelspec": {
   "display_name": "Python 3 (ipykernel)",
   "language": "python",
   "name": "python3"
  },
  "language_info": {
   "codemirror_mode": {
    "name": "ipython",
    "version": 3
   },
   "file_extension": ".py",
   "mimetype": "text/x-python",
   "name": "python",
   "nbconvert_exporter": "python",
   "pygments_lexer": "ipython3",
   "version": "3.12.3"
  }
 },
 "nbformat": 4,
 "nbformat_minor": 5
}
